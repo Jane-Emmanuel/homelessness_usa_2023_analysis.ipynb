{
 "cells": [
  {
   "cell_type": "markdown",
   "id": "d49c0fc1",
   "metadata": {},
   "source": [
    "# Homelessness in the US (2023): Exploratory Data Analysis\n",
    "This notebook provides an exploratory data analysis (EDA) of homelessness in the United States for the year 2023. The dataset includes information on the number of individuals and family members experiencing homelessness in each state, along with the state's population and region. The goal is to understand patterns and key insights from the data."
   ]
  },
  {
   "cell_type": "markdown",
   "id": "fadda996",
   "metadata": {},
   "source": [
    "## Data Loading"
   ]
  },
  {
   "cell_type": "code",
   "execution_count": null,
   "id": "d8b4613b",
   "metadata": {},
   "outputs": [],
   "source": [
    "import pandas as pd\n",
    "import matplotlib.pyplot as plt\n",
    "import seaborn as sns\n",
    "\n",
    "# Load the dataset\n",
    "df = pd.read_csv('homelessness_in_US_2023.csv')\n",
    "df.head()"
   ]
  },
  {
   "cell_type": "markdown",
   "id": "d84ce7bc",
   "metadata": {},
   "source": [
    "## Basic Inspection"
   ]
  },
  {
   "cell_type": "code",
   "execution_count": null,
   "id": "1c48b30f",
   "metadata": {},
   "outputs": [],
   "source": [
    "# Shape of the dataset\n",
    "df.shape"
   ]
  },
  {
   "cell_type": "code",
   "execution_count": null,
   "id": "e2c38644",
   "metadata": {},
   "outputs": [],
   "source": [
    "# Data types and missing values\n",
    "df.info()"
   ]
  },
  {
   "cell_type": "code",
   "execution_count": null,
   "id": "eecd9203",
   "metadata": {},
   "outputs": [],
   "source": [
    "# Descriptive statistics\n",
    "df.describe()"
   ]
  },
  {
   "cell_type": "code",
   "execution_count": null,
   "id": "089fe866",
   "metadata": {},
   "outputs": [],
   "source": [
    "# Unique regions\n",
    "df['region'].unique()"
   ]
  },
  {
   "cell_type": "markdown",
   "id": "ccf68821",
   "metadata": {},
   "source": [
    "## Data Cleaning"
   ]
  },
  {
   "cell_type": "code",
   "execution_count": null,
   "id": "1bc07f01",
   "metadata": {},
   "outputs": [],
   "source": [
    "# Check for null values\n",
    "df.isnull().sum()"
   ]
  },
  {
   "cell_type": "code",
   "execution_count": null,
   "id": "6dd4f8f3",
   "metadata": {},
   "outputs": [],
   "source": [
    "# Ensure correct data types\n",
    "df['state_pop'] = pd.to_numeric(df['state_pop'], errors='coerce')"
   ]
  },
  {
   "cell_type": "code",
   "execution_count": null,
   "id": "fc8a2cd4",
   "metadata": {},
   "outputs": [],
   "source": [
    "# Create new columns for total homeless and homeless per 100,000\n",
    "df['total_homeless'] = df['individuals'] + df['family_members']\n",
    "df['homeless_per_100k'] = (df['total_homeless'] / df['state_pop']) * 100000\n",
    "df.head()"
   ]
  },
  {
   "cell_type": "markdown",
   "id": "4ab75f80",
   "metadata": {},
   "source": [
    "## Data Visualization"
   ]
  },
  {
   "cell_type": "code",
   "execution_count": null,
   "id": "33f6f187",
   "metadata": {},
   "outputs": [],
   "source": [
    "top_10_states = df.sort_values('total_homeless', ascending=False).head(10)\n",
    "plt.figure(figsize=(12,6))\n",
    "sns.barplot(x='state', y='total_homeless', data=top_10_states, palette='Reds_r')\n",
    "plt.title('Top 10 States by Total Homeless Population (2023)')\n",
    "plt.xticks(rotation=45)\n",
    "plt.tight_layout()\n",
    "plt.show()"
   ]
  },
  {
   "cell_type": "code",
   "execution_count": null,
   "id": "b396be3e",
   "metadata": {},
   "outputs": [],
   "source": [
    "plt.figure(figsize=(12,6))\n",
    "sns.boxplot(x='region', y='homeless_per_100k', data=df)\n",
    "plt.title('Homelessness per 100,000 People by Region')\n",
    "plt.xticks(rotation=45)\n",
    "plt.tight_layout()\n",
    "plt.show()"
   ]
  },
  {
   "cell_type": "markdown",
   "id": "4b34a2de",
   "metadata": {},
   "source": [
    "## Key Findings\n",
    "- **California** has the highest number of homeless individuals by far.\n",
    "- There is considerable regional variation, with western states showing higher per capita homelessness.\n",
    "- Some smaller states (like Alaska and Hawaii) have high homelessness rates relative to their populations.\n",
    "- Data quality appears to be good, with no missing values or major formatting issues."
   ]
  },
  {
   "cell_type": "markdown",
   "id": "4cdeb8bf",
   "metadata": {},
   "source": [
    "## Conclusion\n",
    "This exploratory analysis provides insights into homelessness in the US for 2023. Further analysis could involve time series data, policy impacts, or correlating with other socioeconomic factors."
   ]
  }
 ],
 "metadata": {
  "kernelspec": {
   "display_name": "Python 3 (ipykernel)",
   "language": "python",
   "name": "python3"
  },
  "language_info": {
   "codemirror_mode": {
    "name": "ipython",
    "version": 3
   },
   "file_extension": ".py",
   "mimetype": "text/x-python",
   "name": "python",
   "nbconvert_exporter": "python",
   "pygments_lexer": "ipython3",
   "version": "3.12.7"
  }
 },
 "nbformat": 4,
 "nbformat_minor": 5
}
